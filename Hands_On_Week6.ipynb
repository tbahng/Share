{
  "nbformat": 4,
  "nbformat_minor": 0,
  "metadata": {
    "colab": {
      "name": "Hands_On_Week6.ipynb",
      "provenance": [],
      "collapsed_sections": [],
      "include_colab_link": true
    },
    "kernelspec": {
      "name": "python3",
      "display_name": "Python 3"
    }
  },
  "cells": [
    {
      "cell_type": "markdown",
      "metadata": {
        "id": "view-in-github",
        "colab_type": "text"
      },
      "source": [
        "<a href=\"https://colab.research.google.com/github/tbahng/Share/blob/master/Hands_On_Week6.ipynb\" target=\"_parent\"><img src=\"https://colab.research.google.com/assets/colab-badge.svg\" alt=\"Open In Colab\"/></a>"
      ]
    },
    {
      "cell_type": "markdown",
      "metadata": {
        "id": "Iwi9qXmJ46Qg",
        "colab_type": "text"
      },
      "source": [
        "# Game-day Simulator for Baseball\n",
        "* IST 718 - Hands-On Week 6"
      ]
    },
    {
      "cell_type": "code",
      "metadata": {
        "id": "b5ubkXxe5BJ4",
        "colab_type": "code",
        "colab": {
          "base_uri": "https://localhost:8080/",
          "height": 54
        },
        "outputId": "052e7806-a093-4af0-bd8e-d457079afe45"
      },
      "source": [
        "import numpy as np\n",
        "import random\n",
        "import matplotlib.pyplot as plt\n",
        "import seaborn as sns"
      ],
      "execution_count": null,
      "outputs": [
        {
          "output_type": "stream",
          "text": [
            "/usr/local/lib/python3.6/dist-packages/statsmodels/tools/_testing.py:19: FutureWarning: pandas.util.testing is deprecated. Use the functions in the public API at pandas.testing instead.\n",
            "  import pandas.util.testing as tm\n"
          ],
          "name": "stderr"
        }
      ]
    },
    {
      "cell_type": "code",
      "metadata": {
        "id": "Zy1uv0zx5J_R",
        "colab_type": "code",
        "colab": {}
      },
      "source": [
        "# define simulator function to estimate and return a probability of home team win\n",
        "# try with different distributions, default negative binomial distribution; alternative is poisson\n",
        "def simulator(home_mean, away_mean, niterations, nbinom = True):\n",
        "    random.seed(1234)\n",
        "    # initialize n-iterations of home and away game scores\n",
        "    home_game_score = [0] * niterations\n",
        "    away_game_score = [0] * niterations\n",
        "    home_win = [0] * niterations # either 0 (home team loss) or 1 (home team win)\n",
        "    i = 0\n",
        "    while (i < niterations):    \n",
        "      if nbinom:\n",
        "        home_game_score[i] = np.random.poisson(home_mean, size = 1)[0]\n",
        "        away_game_score[i] = np.random.poisson(away_mean, size = 1)[0]\n",
        "      else:\n",
        "        home_game_score[i] = np.random.negative_binomial(n = 4.0, p = 4.0 / (4.0 + home_mean), size = 1)[0]\n",
        "        away_game_score[i] = np.random.negative_binomial(n = 4.0, p = 4.0 / (4.0 + away_mean), size = 1)[0]\n",
        "      if (home_game_score[i] > away_game_score[i]):\n",
        "        home_win[i] = 1\n",
        "      if ((away_game_score[i] > home_game_score[i]) or (away_game_score[i] < home_game_score[i])):\n",
        "        i = i + 1\n",
        "    n_home_win = sum(home_win)\n",
        "    return n_home_win / niterations"
      ],
      "execution_count": null,
      "outputs": []
    },
    {
      "cell_type": "markdown",
      "metadata": {
        "id": "BJ8rChN-BTEL",
        "colab_type": "text"
      },
      "source": [
        "## Run Simulation to Estimate Probabilities of Home Team win\n",
        "* Using negative binomial distribution"
      ]
    },
    {
      "cell_type": "code",
      "metadata": {
        "id": "2OF90ixPCSb0",
        "colab_type": "code",
        "colab": {
          "base_uri": "https://localhost:8080/",
          "height": 219
        },
        "outputId": "a303da3b-af46-4219-cd62-54ba1096d37d"
      },
      "source": [
        "%%time\n",
        "# number of iterations to perform in simulator\n",
        "n = 1000\n",
        "# initialize a 9 x 9 probability matrix to store results\n",
        "probmat = np.array([[0.0] * 9] * 9)\n",
        "# matrix representation of home and away team runs for table\n",
        "homemat = np.array([[9] * 9, [8] * 9, [7] * 9, [6] * 9, [5] * 9, [4] * 9, [3] * 9, [2] * 9, [1] * 9])\n",
        "awayrow = np.array([1,2,3,4,5,6,7,8,9])\n",
        "awaymat = np.array([awayrow] * 9)\n",
        "\n",
        "for index_home in range(9):\n",
        "    for index_away in range(9):\n",
        "        if (homemat[index_home, index_away] != awaymat[index_home, index_away]):            \n",
        "            # run simulator\n",
        "            probmat[index_home, index_away] = simulator(\n",
        "                home_mean = float(homemat[index_home, index_away]),\n",
        "                away_mean = float(awaymat[index_home, index_away]),\n",
        "                niterations = n,\n",
        "                nbinom=True\n",
        "            )\n",
        "print(probmat)      "
      ],
      "execution_count": null,
      "outputs": [
        {
          "output_type": "stream",
          "text": [
            "[[0.999 0.992 0.979 0.943 0.873 0.813 0.7   0.608 0.   ]\n",
            " [0.998 0.988 0.956 0.903 0.835 0.729 0.604 0.    0.379]\n",
            " [0.997 0.963 0.93  0.853 0.754 0.62  0.    0.408 0.271]\n",
            " [0.986 0.947 0.874 0.782 0.624 0.    0.395 0.28  0.194]\n",
            " [0.967 0.906 0.808 0.647 0.    0.347 0.278 0.169 0.123]\n",
            " [0.959 0.825 0.678 0.    0.351 0.239 0.149 0.098 0.056]\n",
            " [0.897 0.715 0.    0.343 0.198 0.121 0.062 0.051 0.023]\n",
            " [0.767 0.    0.296 0.175 0.107 0.059 0.028 0.007 0.009]\n",
            " [0.    0.234 0.094 0.046 0.026 0.013 0.003 0.007 0.002]]\n",
            "CPU times: user 879 ms, sys: 0 ns, total: 879 ms\n",
            "Wall time: 884 ms\n"
          ],
          "name": "stdout"
        }
      ]
    },
    {
      "cell_type": "markdown",
      "metadata": {
        "id": "dEnsxdCDJLx-",
        "colab_type": "text"
      },
      "source": [
        "## Plot Probability Matrix"
      ]
    },
    {
      "cell_type": "code",
      "metadata": {
        "id": "foQ-WGJ1JSLO",
        "colab_type": "code",
        "colab": {
          "base_uri": "https://localhost:8080/",
          "height": 483
        },
        "outputId": "60d81a5b-8c49-4904-d4ae-c46e6de7f9a4"
      },
      "source": [
        "plt.imshow(probmat, cmap = 'hot')\n",
        "plt.gcf().set_size_inches(8,8)\n",
        "plt.show()"
      ],
      "execution_count": null,
      "outputs": [
        {
          "output_type": "display_data",
          "data": {
            "image/png": "[encoded data removed]",
            "text/plain": [
              "<Figure size 576x576 with 1 Axes>"
            ]
          },
          "metadata": {
            "tags": [],
            "needs_background": "light"
          }
        }
      ]
    },
    {
      "cell_type": "markdown",
      "metadata": {
        "colab_type": "text",
        "id": "dk5qYtOtJqrR"
      },
      "source": [
        "## Run Simulation to Estimate Probabilities of Home Team win\n",
        "* Using poisson distribution"
      ]
    },
    {
      "cell_type": "code",
      "metadata": {
        "id": "HKkD08W7Jtrv",
        "colab_type": "code",
        "colab": {
          "base_uri": "https://localhost:8080/",
          "height": 219
        },
        "outputId": "30d085d2-520a-44fc-b3e5-3c6f895a9965"
      },
      "source": [
        "%%time\n",
        "# number of iterations to perform in simulator\n",
        "n = 1000\n",
        "# initialize a 9 x 9 probability matrix to store results\n",
        "probmat = np.array([[0.0] * 9] * 9)\n",
        "# matrix representation of home and away team runs for table\n",
        "homemat = np.array([[9] * 9, [8] * 9, [7] * 9, [6] * 9, [5] * 9, [4] * 9, [3] * 9, [2] * 9, [1] * 9])\n",
        "awayrow = np.array([1,2,3,4,5,6,7,8,9])\n",
        "awaymat = np.array([awayrow] * 9)\n",
        "\n",
        "for index_home in range(9):\n",
        "    for index_away in range(9):\n",
        "        if (homemat[index_home, index_away] != awaymat[index_home, index_away]):            \n",
        "            # run simulator\n",
        "            probmat[index_home, index_away] = simulator(\n",
        "                home_mean = float(homemat[index_home, index_away]),\n",
        "                away_mean = float(awaymat[index_home, index_away]),\n",
        "                niterations = n,\n",
        "                nbinom=False # poisson distribution\n",
        "            )\n",
        "print(probmat)      "
      ],
      "execution_count": null,
      "outputs": [
        {
          "output_type": "stream",
          "text": [
            "[[0.985 0.941 0.866 0.829 0.746 0.67  0.602 0.533 0.   ]\n",
            " [0.975 0.915 0.863 0.78  0.711 0.617 0.573 0.    0.451]\n",
            " [0.966 0.904 0.823 0.744 0.657 0.557 0.    0.424 0.408]\n",
            " [0.952 0.862 0.782 0.671 0.561 0.    0.438 0.375 0.31 ]\n",
            " [0.927 0.822 0.713 0.586 0.    0.424 0.356 0.275 0.268]\n",
            " [0.886 0.767 0.605 0.    0.403 0.344 0.243 0.219 0.191]\n",
            " [0.842 0.66  0.    0.394 0.298 0.249 0.19  0.154 0.128]\n",
            " [0.743 0.    0.359 0.231 0.207 0.137 0.097 0.064 0.062]\n",
            " [0.    0.289 0.128 0.1   0.074 0.046 0.032 0.026 0.026]]\n",
            "CPU times: user 972 ms, sys: 323 µs, total: 973 ms\n",
            "Wall time: 984 ms\n"
          ],
          "name": "stdout"
        }
      ]
    },
    {
      "cell_type": "code",
      "metadata": {
        "id": "kLzzPSPJKV5X",
        "colab_type": "code",
        "colab": {
          "base_uri": "https://localhost:8080/",
          "height": 483
        },
        "outputId": "38021fb7-6821-4132-da7c-99ada9cceb0b"
      },
      "source": [
        "plt.imshow(probmat, cmap = 'hot')\n",
        "plt.gcf().set_size_inches(8,8)\n",
        "plt.show()"
      ],
      "execution_count": null,
      "outputs": [
        {
          "output_type": "display_data",
          "data": {
            "image/png": "[encoded data removed]",
            "text/plain": [
              "<Figure size 576x576 with 1 Axes>"
            ]
          },
          "metadata": {
            "tags": [],
            "needs_background": "light"
          }
        }
      ]
    },
    {
      "cell_type": "code",
      "metadata": {
        "id": "3dR5fVrZKYlH",
        "colab_type": "code",
        "colab": {}
      },
      "source": [
        ""
      ],
      "execution_count": null,
      "outputs": []
    }
  ]
}